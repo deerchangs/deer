{
 "cells": [
  {
   "cell_type": "markdown",
   "metadata": {},
   "source": [
    "# Stata와 Pandas 기능 비교\n",
    "\n",
    "## 데이터 구조 및 기본 사용\n",
    "\n",
    "| 기능             | Stata                          | Pandas (Python)                       |\n",
    "|------------------|--------------------------------|---------------------------------------|\n",
    "| 데이터 구조      | 데이터셋 (.dta 파일)           | DataFrame (.csv, .xlsx, .hdf, .json 등) |\n",
    "| 기본 사용 언어   | Stata 명령어 (스크립트 파일: .do) | Python                                |\n",
    "| 데이터 읽기      | `use filename`                 | `pd.read_csv('filename')`             |\n",
    "| 데이터 쓰기      | `save filename`                | `df.to_csv('filename')`               |\n",
    "\n",
    "\n"
   ]
  },
  {
   "cell_type": "markdown",
   "metadata": {},
   "source": [
    "# 데이터 선택 및 필터링\n",
    "\n",
    "## 특정 열 유지\n",
    "\n",
    "| Stata                          | Pandas (Python)                       |\n",
    "|--------------------------------|---------------------------------------|\n",
    "| `keep varlist`                 | `df = df[['col1', 'col2']]`           |\n",
    "| ```stata                       | ```python                             |\n",
    "| keep col1 col2                 | df = df[['col1', 'col2']]             |\n",
    "| ```                            | ```                                   |\n",
    "\n",
    "## 열 삭제\n",
    "\n",
    "| Stata                          | Pandas (Python)                       |\n",
    "|--------------------------------|---------------------------------------|\n",
    "| `drop varlist`                 | `df.drop(columns=['col1', 'col2'], inplace=True)` |\n",
    "| ```stata                       | ```python                             |\n",
    "| drop col1 col2                 | df.drop(columns=['col1', 'col2'], inplace=True) |\n",
    "| ```                            | ```                                   |\n",
    "\n",
    "## 열 이름 바꾸기\n",
    "\n",
    "| Stata                          | Pandas (Python)                       |\n",
    "|--------------------------------|---------------------------------------|\n",
    "| `rename oldname newname`       | `df.rename(columns={'oldname': 'newname'}, inplace=True)` |\n",
    "| ```stata                       | ```python                             |\n",
    "| rename oldname newname         | df.rename(columns={'oldname': 'newname'}, inplace=True) |\n",
    "| ```                            | ```                                   |\n",
    "\n",
    "## 행 필터링\n",
    "\n",
    "| Stata                          | Pandas (Python)                       |\n",
    "|--------------------------------|---------------------------------------|\n",
    "| `keep if condition`            | `df = df[df['column'] == condition]`  |\n",
    "| ```stata                       | ```python                             |\n",
    "| keep if age > 30               | df = df[df['age'] > 30]               |\n",
    "| ```                            | ```                                   |\n",
    "\n",
    "## 값에 따른 정렬\n",
    "\n",
    "| Stata                          | Pandas (Python)                       |\n",
    "|--------------------------------|---------------------------------------|\n",
    "| `sort varname`                 | `df.sort_values(by='varname', ascending=True)` |\n",
    "| ```stata                       | ```python                             |\n",
    "| sort age                       | df = df.sort_values(by='age', ascending=True) |\n",
    "| ```                            | ```                                   |\n"
   ]
  },
  {
   "cell_type": "markdown",
   "metadata": {},
   "source": [
    "# 데이터 생성 및 변환\n",
    "\n",
    "## 변수 생성\n",
    "\n",
    "| Stata                          | Pandas (Python)                       |\n",
    "|--------------------------------|---------------------------------------|\n",
    "| `generate varname = expression` | `df['varname'] = expression`          |\n",
    "| ```stata                       | ```python                             |\n",
    "| generate varname = expression  | df['varname'] = expression            |\n",
    "| ```                            | ```                                   |\n",
    "\n",
    "## 변수 삭제\n",
    "\n",
    "| Stata                          | Pandas (Python)                       |\n",
    "|--------------------------------|---------------------------------------|\n",
    "| `drop varname`                 | `df.drop(columns=['varname'], inplace=True)` |\n",
    "| ```stata                       | ```python                             |\n",
    "| drop varname                   | df.drop(columns=['varname'], inplace=True) |\n",
    "| ```                            | ```                                   |\n",
    "\n",
    "## 변수 형 변환\n",
    "\n",
    "| Stata                          | Pandas (Python)                       |\n",
    "|--------------------------------|---------------------------------------|\n",
    "| `tostring`, `destring`, `encode` | `df['column'] = df['column'].astype(type)` |\n",
    "| ```stata                       | ```python                             |\n",
    "| tostring varname, replace      | df['column'] = df['column'].astype(type) |\n",
    "| destring varname, replace      |                                       |\n",
    "| encode varname, generate(newvar) |                                       |\n",
    "| ```                            | ```                                   |\n",
    "\n",
    "## 결측치 확인\n",
    "\n",
    "| Stata                          | Pandas (Python)                       |\n",
    "|--------------------------------|---------------------------------------|\n",
    "| `misstable summarize`          | `df.isnull().sum()`                   |\n",
    "| ```stata                       | ```python                             |\n",
    "| misstable summarize            | df.isnull().sum()                     |\n",
    "| ```                            | ```                                   |\n",
    "\n",
    "## 결측치 제거\n",
    "\n",
    "| Stata                          | Pandas (Python)                       |\n",
    "|--------------------------------|---------------------------------------|\n",
    "| `drop if missing(varname)`      | `df.dropna(inplace=True)`             |\n",
    "| ```stata                       | ```python                             |\n",
    "| drop if missing(varname)       | df.dropna(inplace=True)               |\n",
    "| ```                            | ```                                   |\n",
    "\n",
    "## 결측치 대체 (지정된 값)\n",
    "\n",
    "| Stata                          | Pandas (Python)                       |\n",
    "|--------------------------------|---------------------------------------|\n",
    "| `replace varname = value if missing(varname)` | `df['varname'].fillna(value, inplace=True)` |\n",
    "| ```stata                       | ```python                             |\n",
    "| replace varname = value if missing(varname) | df['varname'].fillna(value, inplace=True) |\n",
    "| ```                            | ```                                   |\n",
    "\n",
    "## 결측치 대체 (앞의 값)\n",
    "\n",
    "| Stata                          | Pandas (Python)                       |\n",
    "|--------------------------------|---------------------------------------|\n",
    "| `replace varname = varname[_n-1] if missing(varname)` | `df['varname'].fillna(method='ffill', inplace=True)` |\n",
    "| ```stata                       | ```python                             |\n",
    "| replace varname = varname[_n-1] if missing(varname) | df['varname'].fillna(method='ffill', inplace=True) |\n",
    "| ```                            | ```                                   |\n"
   ]
  },
  {
   "cell_type": "markdown",
   "metadata": {},
   "source": [
    "# 문자열 처리\n",
    "\n",
    "## 문자열 길이 찾기\n",
    "\n",
    "| Stata                          | Pandas (Python)                       |\n",
    "|--------------------------------|---------------------------------------|\n",
    "| `gen strlen = length(varname)` | `df['strlen'] = df['varname'].str.len()` |\n",
    "| ```stata                       | ```python                             |\n",
    "| gen strlen = length(varname)   | df['strlen'] = df['varname'].str.len() |\n",
    "| ```                            | ```                                   |\n",
    "\n",
    "## 문자열 하위 위치 찾기\n",
    "\n",
    "| Stata                          | Pandas (Python)                       |\n",
    "|--------------------------------|---------------------------------------|\n",
    "| `gen pos = strpos(varname, \"substring\")` | `df['pos'] = df['varname'].str.find('substring')` |\n",
    "| ```stata                       | ```python                             |\n",
    "| gen pos = strpos(varname, \"substring\") | df['pos'] = df['varname'].str.find('substring') |\n",
    "| ```                            | ```                                   |\n",
    "\n",
    "## 위치별 문자열 추출\n",
    "\n",
    "| Stata                          | Pandas (Python)                       |\n",
    "|--------------------------------|---------------------------------------|\n",
    "| `gen substr = substr(varname, start, len)` | `df['substr'] = df['varname'].str[start:end]` |\n",
    "| ```stata                       | ```python                             |\n",
    "| gen substr = substr(varname, 1, 3) | df['substr'] = df['varname'].str[1:4] |\n",
    "| ```                            | ```                                   |\n",
    "\n",
    "## n번째 단어 추출\n",
    "\n",
    "| Stata                          | Pandas (Python)                       |\n",
    "|--------------------------------|---------------------------------------|\n",
    "| `gen word = word(varname, n)`  | `df['word'] = df['varname'].str.split().str[n-1]` |\n",
    "| ```stata                       | ```python                             |\n",
    "| gen word = word(varname, 2)    | df['word'] = df['varname'].str.split().str[1] |\n",
    "| ```                            | ```                                   |\n",
    "\n",
    "## 문자열 케이스 변경\n",
    "\n",
    "| Stata                          | Pandas (Python)                       |\n",
    "|--------------------------------|---------------------------------------|\n",
    "| `gen upper = upper(varname)`   | `df['upper'] = df['varname'].str.upper()`<br>`df['lower'] = df['varname'].str.lower()`<br>`df['title'] = df['varname'].str.title()` |\n",
    "| ```stata                       | ```python                             |\n",
    "| gen upper = upper(varname)     | df['upper'] = df['varname'].str.upper() |\n",
    "| gen lower = lower(varname)     | df['lower'] = df['varname'].str.lower() |\n",
    "| gen title = proper(varname)    | df['title'] = df['varname'].str.title() |\n",
    "| ```                            | ```                                   |\n"
   ]
  },
  {
   "cell_type": "markdown",
   "metadata": {},
   "source": [
    "# 그룹화 및 집계\n",
    "\n",
    "## 그룹별 요약\n",
    "\n",
    "| Stata                          | Pandas (Python)                       |\n",
    "|--------------------------------|---------------------------------------|\n",
    "| `by varname: summarize`        | `df.groupby('varname').describe()`    |\n",
    "| ```stata                       | ```python                             |\n",
    "| by groupvar: summarize         | df.groupby('groupvar').describe()     |\n",
    "| ```                            | ```                                   |\n",
    "\n",
    "## 그룹별 집계\n",
    "\n",
    "| Stata                          | Pandas (Python)                       |\n",
    "|--------------------------------|---------------------------------------|\n",
    "| `by varname: egen newvar = func(varname)` | `df.groupby('varname').agg({'col': 'func'})` |\n",
    "| ```stata                       | ```python                             |\n",
    "| by groupvar: egen newvar = mean(varname) | df.groupby('groupvar').agg({'col': 'mean'}) |\n",
    "| ```                            | ```                                   |\n",
    "\n",
    "## 그룹별 변환\n",
    "\n",
    "| Stata                          | Pandas (Python)                       |\n",
    "|--------------------------------|---------------------------------------|\n",
    "| `by varname: replace varname = ...` | `df.groupby('varname').transform(func)` |\n",
    "| ```stata                       | ```python                             |\n",
    "| by groupvar: replace varname = mean(varname) | df['varname'] = df.groupby('groupvar')['varname'].transform('mean') |\n",
    "| ```                            | ```                                   |\n",
    "\n",
    "## 그룹별 처리\n",
    "\n",
    "| Stata                          | Pandas (Python)                       |\n",
    "|--------------------------------|---------------------------------------|\n",
    "| `by varname: command`          | `df.groupby('varname').apply(func)`   |\n",
    "| ```stata                       | ```python                             |\n",
    "| by groupvar: regress y x       | df.groupby('groupvar').apply(lambda x: sm.OLS(x['y'], x[['x']]).fit().summary()) |\n",
    "| ```                            | ```                                   |\n"
   ]
  },
  {
   "cell_type": "markdown",
   "metadata": {},
   "source": [
    "# 시계열 및 날짜 처리\n",
    "\n",
    "## 날짜 형식 변환\n",
    "\n",
    "| Stata                          | Pandas (Python)                       |\n",
    "|--------------------------------|---------------------------------------|\n",
    "| `gen datevar = date(string, \"YMD\")` | `pd.to_datetime(df['column'], format='%Y-%m-%d')` |\n",
    "| ```stata                       | ```python                             |\n",
    "| gen datevar = date(stringvar, \"YMD\") | df['datevar'] = pd.to_datetime(df['column'], format='%Y-%m-%d') |\n",
    "| ```                            | ```                                   |\n",
    "\n",
    "## 날짜 구성 요소 추출\n",
    "\n",
    "| Stata                          | Pandas (Python)                       |\n",
    "|--------------------------------|---------------------------------------|\n",
    "| `gen year = year(datevar)`     | `df['year'] = df['datevar'].dt.year`  |\n",
    "| ```stata                       | ```python                             |\n",
    "| gen year = year(datevar)       | df['year'] = df['datevar'].dt.year    |\n",
    "| ```                            | ```                                   |\n",
    "\n",
    "## 날짜 연산\n",
    "\n",
    "| Stata                          | Pandas (Python)                       |\n",
    "|--------------------------------|---------------------------------------|\n",
    "| `gen newdate = datevar + 1`    | `df['newdate'] = df['datevar'] + pd.Timedelta(days=1)` |\n",
    "| ```stata                       | ```python                             |\n",
    "| gen newdate = datevar + 1      | df['newdate'] = df['datevar'] + pd.Timedelta(days=1) |\n",
    "| ```                            | ```                                   |\n",
    "\n",
    "# 데이터 병합 및 결합\n",
    "\n",
    "## 병합\n",
    "\n",
    "| Stata                          | Pandas (Python)                       |\n",
    "|--------------------------------|---------------------------------------|\n",
    "| `merge`                        | `pd.merge(df1, df2, on='key')`        |\n",
    "| ```stata                       | ```python                             |\n",
    "| merge using filename, by(key)  | df_merged = pd.merge(df1, df2, on='key') |\n",
    "| ```                            | ```                                   |\n",
    "\n",
    "## 가로 결합\n",
    "\n",
    "| Stata                          | Pandas (Python)                       |\n",
    "|--------------------------------|---------------------------------------|\n",
    "| `append`                       | `pd.concat([df1, df2])`               |\n",
    "| ```stata                       | ```python                             |\n",
    "| append using filename          | df_concat = pd.concat([df1, df2])     |\n",
    "| ```                            | ```                                   |\n",
    "\n",
    "## 세로 결합\n",
    "\n",
    "| Stata                          | Pandas (Python)                       |\n",
    "|--------------------------------|---------------------------------------|\n",
    "| `merge`                        | `pd.concat([df1, df2], axis=1)`       |\n",
    "| ```stata                       | ```python                             |\n",
    "| merge using filename, by(key)  | df_concat = pd.concat([df1, df2], axis=1) |\n",
    "| ```                            | ```                                   |\n"
   ]
  },
  {
   "cell_type": "markdown",
   "metadata": {},
   "source": [
    "# 반복 및 조건문\n",
    "\n",
    "## 조건문\n",
    "\n",
    "| Stata                          | Pandas (Python)                       |\n",
    "|--------------------------------|---------------------------------------|\n",
    "| `if`, `else`                   | `if`, `else`                          |\n",
    "| ```stata                       | ```python                             |\n",
    "| if age > 30 {                  | if age > 30:                          |\n",
    "|     // do something            |     # do something                    |\n",
    "| } else {                       | else:                                 |\n",
    "|     // do something else       |     # do something else               |\n",
    "| }                              |                                       |\n",
    "| ```                            | ```                                   |\n",
    "\n",
    "## 반복문\n",
    "\n",
    "| Stata                          | Pandas (Python)                       |\n",
    "|--------------------------------|---------------------------------------|\n",
    "| `foreach`, `forvalues`         | `for index, row in df.iterrows():`    |\n",
    "| ```stata                       | ```python                             |\n",
    "| foreach var of varlist a b c { | for index, row in df.iterrows():      |\n",
    "|     // do something            |     # do something                    |\n",
    "| }                              |                                       |\n",
    "| ```                            | ```                                   |\n",
    "\n",
    "# 통계 및 회귀 분석\n",
    "\n",
    "## 요약 통계\n",
    "\n",
    "| Stata                          | Pandas (Python)                       |\n",
    "|--------------------------------|---------------------------------------|\n",
    "| `summarize`                    | `df.describe()`                       |\n",
    "| ```stata                       | ```python                             |\n",
    "| summarize                      | df.describe()                         |\n",
    "| ```                            | ```                                   |\n",
    "\n",
    "## 기초 통계량\n",
    "\n",
    "| Stata                          | Pandas (Python)                       |\n",
    "|--------------------------------|---------------------------------------|\n",
    "| `mean`, `sum`, `median`, etc.  | `df['column'].mean()`, `df['column'].sum()`, etc. |\n",
    "| ```stata                       | ```python                             |\n",
    "| mean varname                   | df['column'].mean()                   |\n",
    "| sum varname                    | df['column'].sum()                    |\n",
    "| median varname                 | df['column'].median()                 |\n",
    "| ```                            | ```                                   |\n",
    "\n",
    "## 추정 및 회귀분석\n",
    "\n",
    "| Stata                          | Pandas (Python)                       |\n",
    "|--------------------------------|---------------------------------------|\n",
    "| `regress`                      | `import statsmodels.api as sm`        |\n",
    "| ```stata                       | ```python                             |\n",
    "| regress y x1 x2                | import statsmodels.api as sm          |\n",
    "|                                | X = df[['x1', 'x2']]                  |\n",
    "|                                | Y = df['y']                           |\n",
    "|                                | model = sm.OLS(Y, X).fit()            |\n",
    "|                                | results = model.summary()             |\n",
    "| ```                            | ```                                   |\n",
    "\n",
    "## 패널 데이터 분석\n",
    "\n",
    "| Stata                          | Pandas (Python)                       |\n",
    "|--------------------------------|---------------------------------------|\n",
    "| `xtset`, `xtreg`               | `import statsmodels.formula.api as smf` |\n",
    "| ```stata                       | ```python                             |\n",
    "| xtset panelvar timevar         | import statsmodels.formula.api as smf |\n",
    "| xtreg y x1 x2, fe              | model = smf.ols('y ~ x1 + x2', data=df).fit() |\n",
    "|                                | results = model.summary()             |\n",
    "| ```                            | ```                                   |\n",
    "\n",
    "# 시각화\n",
    "\n",
    "## 시각화\n",
    "\n",
    "| Stata                          | Pandas (Python)                       |\n",
    "|--------------------------------|---------------------------------------|\n",
    "| `graph` 명령어                 | `matplotlib`, `seaborn`               |\n",
    "| ```stata                       | ```python                             |\n",
    "| graph bar (mean) y, over(x)    | import matplotlib.pyplot as plt       |\n",
    "|                                | df['y'].plot(kind='bar')              |\n",
    "|                                | plt.show()                            |\n",
    "| ```                            | ```                                   |\n"
   ]
  },
  {
   "cell_type": "code",
   "execution_count": 1,
   "metadata": {},
   "outputs": [
    {
     "name": "stdout",
     "output_type": "stream",
     "text": [
      "       country  year         pop continent  lifeExp   gdpPercap\n",
      "0  Afghanistan  1952   8425333.0      Asia   28.801  779.445314\n",
      "1  Afghanistan  1957   9240934.0      Asia   30.332  820.853030\n",
      "2  Afghanistan  1962  10267083.0      Asia   31.997  853.100710\n",
      "3  Afghanistan  1967  11537966.0      Asia   34.020  836.197138\n",
      "4  Afghanistan  1972  13079460.0      Asia   36.088  739.981106\n"
     ]
    }
   ],
   "source": [
    "import pandas as pd\n",
    "\n",
    "# Gapminder 데이터 URL\n",
    "url = \"https://raw.githubusercontent.com/resbaz/r-novice-gapminder-files/master/data/gapminder-FiveYearData.csv\"\n",
    "\n",
    "# 데이터 불러오기\n",
    "df = pd.read_csv(url)\n",
    "\n",
    "# 데이터 확인\n",
    "print(df.head())\n"
   ]
  },
  {
   "cell_type": "markdown",
   "metadata": {},
   "source": [
    "### 데이터 선택 및 필터링 ###\n",
    "특정 열 유지\n",
    "```특정 열 유지"
   ]
  },
  {
   "cell_type": "code",
   "execution_count": 2,
   "metadata": {},
   "outputs": [
    {
     "name": "stdout",
     "output_type": "stream",
     "text": [
      "       country  year  lifeExp\n",
      "0  Afghanistan  1952   28.801\n",
      "1  Afghanistan  1957   30.332\n",
      "2  Afghanistan  1962   31.997\n",
      "3  Afghanistan  1967   34.020\n",
      "4  Afghanistan  1972   36.088\n"
     ]
    }
   ],
   "source": [
    "# 특정 열 유지\n",
    "df_subset = df[['country', 'year', 'lifeExp']]\n",
    "print(df_subset.head())\n"
   ]
  },
  {
   "cell_type": "markdown",
   "metadata": {},
   "source": [
    "행 필터링"
   ]
  },
  {
   "cell_type": "code",
   "execution_count": null,
   "metadata": {},
   "outputs": [],
   "source": [
    "# 행 필터링: 2007년 데이터만 선택\n",
    "df_2007 = df[df['year'] == 2007]\n",
    "print(df_2007.head())\n"
   ]
  },
  {
   "cell_type": "markdown",
   "metadata": {},
   "source": [
    "### 데이터 생성 및 변환 ###\n",
    "변수 생성\n",
    "```변수 생성"
   ]
  },
  {
   "cell_type": "code",
   "execution_count": null,
   "metadata": {},
   "outputs": [],
   "source": [
    "# 변수 생성: lifeExp의 제곱\n",
    "df['lifeExp_squared'] = df['lifeExp'] ** 2\n",
    "print(df.head())\n"
   ]
  },
  {
   "cell_type": "markdown",
   "metadata": {},
   "source": [
    "결측치 대체 (지정된 값)"
   ]
  },
  {
   "cell_type": "code",
   "execution_count": null,
   "metadata": {},
   "outputs": [],
   "source": [
    "# 결측치 확인 (Gapminder 데이터에는 결측치가 거의 없습니다)\n",
    "print(df.isnull().sum())\n",
    "\n",
    "# 결측치 대체: 예를 들어, lifeExp에 결측치가 있다면 0으로 대체\n",
    "df['lifeExp'].fillna(0, inplace=True)\n"
   ]
  },
  {
   "cell_type": "markdown",
   "metadata": {},
   "source": [
    "### 문자열 처리 ###\n",
    "문자열 길이 찾기\n",
    "```문자열 길이 찾기"
   ]
  },
  {
   "cell_type": "code",
   "execution_count": null,
   "metadata": {},
   "outputs": [],
   "source": [
    "# 문자열 길이 찾기: country 이름의 길이\n",
    "df['country_length'] = df['country'].str.len()\n",
    "print(df[['country', 'country_length']].head())\n"
   ]
  },
  {
   "cell_type": "markdown",
   "metadata": {},
   "source": [
    "### 그룹화 및 집계 ###\n",
    "그룹별 요약\n",
    "```그룹별 요약"
   ]
  },
  {
   "cell_type": "code",
   "execution_count": null,
   "metadata": {},
   "outputs": [],
   "source": [
    "# 그룹별 요약: continent별 요약 통계\n",
    "continent_summary = df.groupby('continent').describe()\n",
    "print(continent_summary)\n"
   ]
  },
  {
   "cell_type": "markdown",
   "metadata": {},
   "source": [
    "그룹별 집계"
   ]
  },
  {
   "cell_type": "code",
   "execution_count": null,
   "metadata": {},
   "outputs": [],
   "source": [
    "# 그룹별 집계: continent별 평균 lifeExp\n",
    "continent_lifeExp_mean = df.groupby('continent').agg({'lifeExp': 'mean'})\n",
    "print(continent_lifeExp_mean)\n"
   ]
  },
  {
   "cell_type": "markdown",
   "metadata": {},
   "source": [
    "### 시계열 및 날짜 처리 ###\n",
    "날짜 형식 변환\n",
    "```날짜 형식 변환\n",
    "(이 데이터에는 날짜 변환이 필요 없지만 예시로 포함)"
   ]
  },
  {
   "cell_type": "code",
   "execution_count": null,
   "metadata": {},
   "outputs": [],
   "source": [
    "# 예시: 문자열을 날짜 형식으로 변환 (이 데이터에는 해당 안 됨)\n",
    "# df['date'] = pd.to_datetime(df['year'], format='%Y')\n"
   ]
  },
  {
   "cell_type": "markdown",
   "metadata": {},
   "source": [
    "날짜 구성 요소 추출 \n",
    "```날짜 구성 요소 추출\n",
    "(이 데이터에는 해당 없음)\n"
   ]
  },
  {
   "cell_type": "markdown",
   "metadata": {},
   "source": [
    "### 데이터 병합 및 결합 ###\n",
    "병합\n",
    "```\n",
    "(여기서는 예시로 동일한 데이터를 두 번 불러와 병합)"
   ]
  },
  {
   "cell_type": "code",
   "execution_count": null,
   "metadata": {},
   "outputs": [],
   "source": [
    "# 두 데이터프레임 병합\n",
    "df1 = df[['country', 'year', 'lifeExp']]\n",
    "df2 = df[['country', 'year', 'gdpPercap']]\n",
    "df_merged = pd.merge(df1, df2, on=['country', 'year'])\n",
    "print(df_merged.head())\n"
   ]
  },
  {
   "cell_type": "markdown",
   "metadata": {},
   "source": [
    "### 반복 및 조건문 ###\n",
    "조건문"
   ]
  },
  {
   "cell_type": "code",
   "execution_count": null,
   "metadata": {},
   "outputs": [],
   "source": [
    "# 조건문: lifeExp가 70 이상이면 1, 그렇지 않으면 0\n",
    "df['high_lifeExp'] = df['lifeExp'].apply(lambda x: 1 if x >= 70 else 0)\n",
    "print(df[['country', 'year', 'lifeExp', 'high_lifeExp']].head())\n"
   ]
  },
  {
   "cell_type": "markdown",
   "metadata": {},
   "source": [
    "반복문"
   ]
  },
  {
   "cell_type": "code",
   "execution_count": null,
   "metadata": {},
   "outputs": [],
   "source": [
    "# 반복문: 각 country의 평균 lifeExp 계산\n",
    "countries = df['country'].unique()\n",
    "for country in countries:\n",
    "    country_df = df[df['country'] == country]\n",
    "    mean_lifeExp = country_df['lifeExp'].mean()\n",
    "    print(f'{country}: {mean_lifeExp}')\n"
   ]
  },
  {
   "cell_type": "markdown",
   "metadata": {},
   "source": [
    "### 통계 및 회귀 분석 ###\n",
    "요약 통계"
   ]
  },
  {
   "cell_type": "code",
   "execution_count": null,
   "metadata": {},
   "outputs": [],
   "source": [
    "# 요약 통계\n",
    "print(df.describe())\n"
   ]
  },
  {
   "cell_type": "markdown",
   "metadata": {},
   "source": [
    "회귀 분석"
   ]
  },
  {
   "cell_type": "code",
   "execution_count": null,
   "metadata": {},
   "outputs": [],
   "source": [
    "import statsmodels.api as sm\n",
    "\n",
    "# 독립 변수와 종속 변수 설정\n",
    "X = df[['year', 'gdpPercap']]\n",
    "X = sm.add_constant(X)  # 상수항 추가\n",
    "Y = df['lifeExp']\n",
    "\n",
    "# 회귀 분석\n",
    "model = sm.OLS(Y, X).fit()\n",
    "print(model.summary())\n"
   ]
  },
  {
   "cell_type": "markdown",
   "metadata": {},
   "source": [
    "### 시각화 ###"
   ]
  },
  {
   "cell_type": "code",
   "execution_count": null,
   "metadata": {},
   "outputs": [],
   "source": [
    "import matplotlib.pyplot as plt\n",
    "\n",
    "# 시각화: 연도별 평균 lifeExp\n",
    "df.groupby('year')['lifeExp'].mean().plot(kind='line')\n",
    "plt.xlabel('Year')\n",
    "plt.ylabel('Average Life Expectancy')\n",
    "plt.title('Average Life Expectancy Over Time')\n",
    "plt.show()\n"
   ]
  }
 ],
 "metadata": {
  "kernelspec": {
   "display_name": "Python 3",
   "language": "python",
   "name": "python3"
  },
  "language_info": {
   "codemirror_mode": {
    "name": "ipython",
    "version": 3
   },
   "file_extension": ".py",
   "mimetype": "text/x-python",
   "name": "python",
   "nbconvert_exporter": "python",
   "pygments_lexer": "ipython3",
   "version": "3.12.0"
  }
 },
 "nbformat": 4,
 "nbformat_minor": 2
}
